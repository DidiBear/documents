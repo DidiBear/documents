{
 "cells": [
  {
   "cell_type": "markdown",
   "metadata": {},
   "source": [
    "# Le petit labyrinthe mdr"
   ]
  },
  {
   "cell_type": "markdown",
   "metadata": {},
   "source": [
    "Bon, je vais pas décrire tout ce qu'il y a de mauvais, juste quelque conseil"
   ]
  },
  {
   "cell_type": "markdown",
   "metadata": {},
   "source": [
    "Pour commencer, sépare ton gros labyrinthe.py en plusieurs fonctions claires (lis juste t'es pas obligé ca)"
   ]
  },
  {
   "cell_type": "code",
   "execution_count": 1,
   "metadata": {},
   "outputs": [
    {
     "ename": "NameError",
     "evalue": "name 'init' is not defined",
     "output_type": "error",
     "traceback": [
      "\u001b[1;31m---------------------------------------------------------------------------\u001b[0m",
      "\u001b[1;31mNameError\u001b[0m                                 Traceback (most recent call last)",
      "\u001b[1;32m<ipython-input-1-f8fd6460c5ce>\u001b[0m in \u001b[0;36m<module>\u001b[1;34m()\u001b[0m\n\u001b[1;32m----> 1\u001b[1;33m \u001b[0minit\u001b[0m\u001b[1;33m(\u001b[0m\u001b[1;33m)\u001b[0m                \u001b[1;31m# initialise\u001b[0m\u001b[1;33m\u001b[0m\u001b[0m\n\u001b[0m\u001b[0;32m      2\u001b[0m \u001b[1;32mwhile\u001b[0m \u001b[1;33m(\u001b[0m\u001b[0mis_running\u001b[0m\u001b[1;33m(\u001b[0m\u001b[1;33m)\u001b[0m\u001b[1;33m)\u001b[0m\u001b[1;33m:\u001b[0m \u001b[1;31m# la boucle avec le booleen de fin de jeu\u001b[0m\u001b[1;33m\u001b[0m\u001b[0m\n\u001b[0;32m      3\u001b[0m     \u001b[0mevent\u001b[0m\u001b[1;33m(\u001b[0m\u001b[1;33m)\u001b[0m           \u001b[1;31m# gere les evenement\u001b[0m\u001b[1;33m\u001b[0m\u001b[0m\n\u001b[0;32m      4\u001b[0m     \u001b[0mupdate\u001b[0m\u001b[1;33m(\u001b[0m\u001b[1;33m)\u001b[0m          \u001b[1;31m# affiche sur l'ecran\u001b[0m\u001b[1;33m\u001b[0m\u001b[0m\n\u001b[0;32m      5\u001b[0m \u001b[0mclose\u001b[0m\u001b[1;33m(\u001b[0m\u001b[1;33m)\u001b[0m               \u001b[1;31m# cloture (bon la y'a pas besoin generalement)\u001b[0m\u001b[1;33m\u001b[0m\u001b[0m\n",
      "\u001b[1;31mNameError\u001b[0m: name 'init' is not defined"
     ]
    }
   ],
   "source": [
    "init()                # initialise\n",
    "while (is_running()): # la boucle avec le booleen de fin de jeu\n",
    "    event()           # gere les evenement\n",
    "    update()          # affiche sur l'ecran\n",
    "close()               # cloture (bon la y'a pas besoin generalement)"
   ]
  },
  {
   "cell_type": "markdown",
   "metadata": {},
   "source": [
    "Apres y'a bien evidemment toutes les questions de portées des variables, logiquement on fait un object pour ca.\n",
    "Bon, on va pas aller dans tout le délire des différentes phases de l'appli (menu puis jeu), qui sont plusieurs classes qui ont le même style d'implémentation (donc qui herite d'une même class \"Phase\" par exemple).\n",
    "Voila par exemple pour la phase du labyrinthe (le jeu en lui même):\n"
   ]
  },
  {
   "cell_type": "code",
   "execution_count": null,
   "metadata": {},
   "outputs": [],
   "source": [
    "class Labyrinthe:\n",
    "    \n",
    "    # init le contexte \n",
    "    def __init__(self, fenetre, niveau):\n",
    "        pygame.time.Clock().tick(30)\n",
    "        \n",
    "        self.fenetre = fenetre\n",
    "        self.niveau = niveau\n",
    "        \n",
    "    \n",
    "    def start():\n",
    "        init()\n",
    "        while self.is_running:\n",
    "            event()\n",
    "            update()\n",
    "    \n",
    "    def init():\n",
    "        self.perso = Perso(img_folder + \"pacman.png\", niveau)\n",
    "        self.is_running = True\n",
    "        \n",
    "    def event():\n",
    "        # evenement du joueur\n",
    "        for event in pygame.event.get():\n",
    "            if appui sur echap : \n",
    "                self.is_running = False\n",
    "            \n",
    "            if appui sur droite:\n",
    "                deplacer(droite)\n",
    "                \n",
    "            # ...\n",
    "        \n",
    "        # evenement dans le jeu\n",
    "        if perso arrivé à la fin :\n",
    "            self.is_running = False\n",
    "        \n",
    "    \n",
    "    def update():\n",
    "        fenetre.blit(fond, (0, 0))\n",
    "        niveau.afficher(fenetre)\n",
    "        # afficher perso etc\n",
    "        pygame.display.flip()\n",
    "        \n",
    "        \n",
    "    def deplacer(direction):\n",
    "        # ..."
   ]
  },
  {
   "cell_type": "markdown",
   "metadata": {},
   "source": [
    "Au final, l'application ressemblerai à un truc de ce style :\n"
   ]
  },
  {
   "cell_type": "code",
   "execution_count": null,
   "metadata": {},
   "outputs": [],
   "source": [
    "# plein de truc au depart \n",
    "\n",
    "while continuer:\n",
    "    while menu:\n",
    "        # le menu\n",
    "        \n",
    "    niveau = le choix du menu\n",
    "    \n",
    "    # Avant y'avais ca :\n",
    "    while jeu:\n",
    "        # le jeu\n",
    "\n",
    "    # maintenant y'a\n",
    "    labyrinthe = Labyrinthe(fenetre, niveau) # le __init__\n",
    "    labyrinthe.start() # la boucle du jeu\n",
    "    \n",
    "    # ou en plus beau :    Labyrinthe(fenetre, niveau).start()\n",
    "    "
   ]
  },
  {
   "cell_type": "markdown",
   "metadata": {},
   "source": [
    "## Pour le problème des intersections :\n",
    "\n",
    "Deja, la gestion des intersection est pas bonne, si tu changes une case de ton niveau, tu dois refaire toutes les images des intersections\n",
    "\n",
    "Je propose de tout refaire cette gestion. Je me dis que y'a même pas besoin de l'image \"Let's concentrate : left or right\". Soit on l'affiche tout le temps, soit ne l'affiche pas du tout.\n",
    "A chaque déplacement, le perso doit aller direct à l'intersection (ou parcourir petit à petit tout seul mais c'est plus relou vu que faut faire plusieur tour de boucle pour l'affichage, c'est largement faisable mais plus fastidieux)\n",
    "Du coup la fonction \"deplacer\" doit déplacer le joueur direct à l'intersection suivante.\n"
   ]
  },
  {
   "cell_type": "markdown",
   "metadata": {},
   "source": [
    "Je vais donc refaire le déplacement.\n",
    "En commencant par refaire la gestion des directions qu'est trop explicite, trop de copier coller.\n",
    "\n",
    "Ce truc mdr, ca ressemble a rien :"
   ]
  },
  {
   "cell_type": "code",
   "execution_count": null,
   "metadata": {},
   "outputs": [],
   "source": [
    "# Déplacement vers la droite\n",
    "if direction == 'droite':\n",
    "    # Pour ne pas dépasser l'écran\n",
    "    if self.case_x < (nombre_sprite_cote - 1):\n",
    "        # On vérifie que la case de destination n'est pas un mur\n",
    "        if self.niveau.structure[self.case_y][self.case_x + 1] != 'm':\n",
    "            # Déplacement d'une case\n",
    "            self.case_x += 1\n",
    "            # Calcul de la position \"réelle\" en pixel\n",
    "            self.x = self.case_x * taille_sprite\n",
    "    # Image dans la bonne direction\n",
    "    self.direction = self.droite\n",
    "\n",
    "# Déplacement vers la gauche\n",
    "if direction == 'gauche':\n",
    "    if self.case_x > 0:\n",
    "        if self.niveau.structure[self.case_y][self.case_x - 1] != 'm':\n",
    "            # time.sleep( 1 )\n",
    "            self.case_x -= 1\n",
    "\n",
    "            self.x = self.case_x * taille_sprite\n",
    "    self.direction = self.gauche\n",
    "\n",
    "# Déplacement vers le haut\n",
    "if direction == 'haut':\n",
    "    if self.case_y > 0:\n",
    "        if self.niveau.structure[self.case_y - 1][self.case_x] != 'm':\n",
    "            # time.sleep( 1 )\n",
    "            self.case_y -= 1\n",
    "\n",
    "            self.y = self.case_y * taille_sprite\n",
    "    self.direction = self.haut\n",
    "\n",
    "# Déplacement vers le bas\n",
    "if direction == 'bas':\n",
    "    if self.case_y < (nombre_sprite_cote - 1):\n",
    "        if self.niveau.structure[self.case_y + 1][self.case_x] != 'm':\n",
    "            # time.sleep( 1 )\n",
    "            self.case_y += 1\n",
    "\n",
    "            self.y = self.case_y * taille_sprite\n",
    "    self.direction = self.bas\n",
    "    print(self.case_x, self.case_y)"
   ]
  },
  {
   "cell_type": "markdown",
   "metadata": {},
   "source": [
    "On vire les valeur x et y du perso, osef, elles sont importantes que dans l'affichage.\n"
   ]
  },
  {
   "cell_type": "code",
   "execution_count": null,
   "metadata": {},
   "outputs": [],
   "source": [
    "fenetre.blit(pc.direction, (pc.x, pc.y))  # pc.direction = l'image dans la bonne direction\n",
    "\n",
    "# deviens : \n",
    "fenetre.blit(perso.image, position(perso)) # plus besoin du commentaire inutile\n",
    "\n",
    "def position(perso):\n",
    "    return (perso.case_x * taille_sprite, perso.case_y * taille_sprite)\n"
   ]
  },
  {
   "cell_type": "markdown",
   "metadata": {},
   "source": [
    "Ensuite on gere les direction dans une structure qui permet de mieux les gerer. Normalement j'aurai fait un objet mais bon c'est pas necessaire"
   ]
  },
  {
   "cell_type": "code",
   "execution_count": null,
   "metadata": {},
   "outputs": [],
   "source": [
    "# dans les constantes :\n",
    "\n",
    "UP, DOWN, LEFT, RIGHT = range(4)   # mon enum des Directions\n",
    "directions = (UP, DOWN, LEFT, RIGHT) # utile pour les lister\n",
    "movement = ((0, -1), (0, 1), (-1, 0), (1, 0))\n",
    "\n",
    "# du coup movement[UP] renvoie (0, -1), c'est a dire un deplacement de 0 en x et de -1 en y\n",
    "\n",
    "\n",
    "# dans la class Perso :\n",
    "def move(self, direction):\n",
    "\n",
    "    self.image = images[direction] # images = [image_haut, image_bas, ...]\n",
    "\n",
    "    shift_x, shift_y = movement[direction] \n",
    "\n",
    "    # les prochaine positions\n",
    "    next_x = self.case_x + shift_x\n",
    "    next_y = self.case_y + shift_y\n",
    "\n",
    "    # si on va en dehors du plateau (on est pas dans le plateau)\n",
    "    if not (0 <= next_x < nombre_sprite_cote and 0 <= next_y < nombre_sprite_cote):\n",
    "        return\n",
    "\n",
    "    # si on se prend un mur\n",
    "    if self.niveau.structure[next_y][next_x] == 'm':\n",
    "        return\n",
    "\n",
    "    # tout est ok, on peut deplacer\n",
    "    self.case_x = next_x\n",
    "    self.case_y = next_y\n",
    "\n",
    "    "
   ]
  },
  {
   "cell_type": "markdown",
   "metadata": {},
   "source": [
    "On peut donc l'utiliser comme ca :"
   ]
  },
  {
   "cell_type": "code",
   "execution_count": null,
   "metadata": {},
   "outputs": [],
   "source": [
    "# Touches de déplacement \n",
    "elif event.key == K_RIGHT:\n",
    "    perso.move(RIGHT)\n",
    "elif event.key == K_LEFT:\n",
    "    perso.move(LEFT)\n",
    "elif event.key == K_UP:\n",
    "    perso.move(UP)\n",
    "elif event.key == K_DOWN:\n",
    "    perso.move(DOWN)\n"
   ]
  },
  {
   "cell_type": "markdown",
   "metadata": {},
   "source": [
    "Voila on a un deplacement propre et lisible, on va faire le parcours d'un chemin vers une intersection.\n",
    "\n",
    "Mais avant, comme je vois que le deplacement dans un chemin va faire globalemen la meme chose, je vais séparer les differente parties du move() en plusieur fonction:\n"
   ]
  },
  {
   "cell_type": "code",
   "execution_count": null,
   "metadata": {},
   "outputs": [],
   "source": [
    "def move(self, direction):\n",
    "\n",
    "    self.image = images[direction] # images = [image_haut, image_bas, ...]\n",
    "\n",
    "    next_x, next_y = self.next_position(direction)\n",
    "    \n",
    "    if self.can_move_to(next_x, next_y):\n",
    "        self.case_x = next_x\n",
    "        self.case_y = next_y\n",
    "\n",
    "def next_position(self, direction):\n",
    "    shift_x, shift_y = movement[direction] \n",
    "\n",
    "    next_x = self.case_x + shift_x\n",
    "    next_y = self.case_y + shift_y\n",
    "    return next_x, next_y\n",
    "    \n",
    "    \n",
    "def can_move_to(self, next_x, next_y):\n",
    "    # si on va en dehors du plateau (on est pas dans le plateau)\n",
    "    if not (0 <= next_x < nombre_sprite_cote and 0 <= next_y < nombre_sprite_cote):\n",
    "        return False\n",
    "\n",
    "    # si on se prend un mur\n",
    "    if self.niveau.structure[next_y][next_x] == 'm':\n",
    "        return False\n",
    "    \n",
    "    return True"
   ]
  },
  {
   "cell_type": "markdown",
   "metadata": {},
   "source": [
    "Maintenant on fait le parcours d'un chemin (travel), qu'on utilisera à la place d'un deplacement d'une case (move)"
   ]
  },
  {
   "cell_type": "code",
   "execution_count": null,
   "metadata": {},
   "outputs": [],
   "source": [
    "def travel(self, direction):\n",
    "    self.move(direction)\n",
    "\n",
    "    backward_direction = opposite_direction(direction)\n",
    "    self.continue_to_travel(backward_direction)\n",
    "\n",
    "def continue_to_travel(self, backward_direction):\n",
    "\n",
    "    possible_direction = []\n",
    "\n",
    "    # on test toutes les directions possibles\n",
    "    for direction in directions:\n",
    "        next_x, next_y = self.next_position(direction)\n",
    "\n",
    "        if not self.can_move_to(next_x, next_y):\n",
    "            continue\n",
    "\n",
    "        # si c'est la direction d'ou le perso vient\n",
    "        if direction is backward_direction:\n",
    "            continue\n",
    "\n",
    "        # c'est une direction possible\n",
    "        possible_direction.append(direction)\n",
    "\n",
    "\n",
    "    # S'il n'y a qu'une seule direction possible\n",
    "    if len(possible_direction) == 1:\n",
    "        direction = possible_direction.pop()\n",
    "\n",
    "        # on continue le parcours\n",
    "        self.travel(direction)\n",
    "        \n",
    "\n",
    "\n",
    "def opposite_direction(direction):\n",
    "    \"\"\" Renvoie la direction opposee (UP <-> DOWN) (LEFT <-> RIGHT) \"\"\"\n",
    "    if direction in (UP, LEFT) :\n",
    "        return directions[direction + 1]\n",
    "    return directions[direction - 1]\n"
   ]
  },
  {
   "cell_type": "markdown",
   "metadata": {},
   "source": [
    "Puis dans le main :"
   ]
  },
  {
   "cell_type": "code",
   "execution_count": null,
   "metadata": {},
   "outputs": [],
   "source": [
    "elif event.key == K_RIGHT:\n",
    "    perso.travel(RIGHT)\n",
    "elif event.key == K_LEFT:\n",
    "    perso.travel(LEFT)\n",
    "elif event.key == K_UP:\n",
    "    perso.travel(UP)\n",
    "elif event.key == K_DOWN:\n",
    "    perso.travel(DOWN)"
   ]
  }
 ],
 "metadata": {
  "kernelspec": {
   "display_name": "Python 3",
   "language": "python",
   "name": "python3"
  },
  "language_info": {
   "codemirror_mode": {
    "name": "ipython",
    "version": 3
   },
   "file_extension": ".py",
   "mimetype": "text/x-python",
   "name": "python",
   "nbconvert_exporter": "python",
   "pygments_lexer": "ipython3",
   "version": "3.6.1"
  }
 },
 "nbformat": 4,
 "nbformat_minor": 2
}
