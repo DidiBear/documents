{
 "cells": [
  {
   "cell_type": "markdown",
   "metadata": {},
   "source": [
    "# Ajout de l'animation"
   ]
  },
  {
   "cell_type": "markdown",
   "metadata": {},
   "source": [
    "Deja, on ajoute le déplacement vers la première intersection :"
   ]
  },
  {
   "cell_type": "code",
   "execution_count": null,
   "metadata": {},
   "outputs": [],
   "source": [
    "# On renomme 'continue_to_travel' en 'progress_into_the_path' qui est plus logique\n",
    "def progress_into_the_path(self, backward_direction=NOWHERE): # NOWHERE c'est quand on veut parcourir en partant de rien\n",
    "    # ...\n",
    "\n",
    "# Au moment ou on creer le perso, on le fait traverser\n",
    "perso = Perso(niveau)\n",
    "perso.progress_into_the_path()"
   ]
  },
  {
   "cell_type": "markdown",
   "metadata": {},
   "source": [
    "Ensuite la on va gérer l'animation, du coup là on doit faire en sorte que la boucle principale avec l'affichage se face en parallele qu'on fait la fonction travel(), ca devient le bordel.\n",
    "\n",
    "La manière la plus logique de faire ca c'est avec les threads, on crée 2 processus en parallele, un qui affiche et l'autre qui déplace le perso (fait du traitement). \n",
    "Le problème c'est que ca va complexifié l'appli et si la structure est pas propre (ce qui est le cas ici :P), ca sera pas maintenable si on veut rajouter des trucs.\n",
    "Par exemple, il faut (en plus des problème de concurrence) ralentir le déplacement du perso avec le clockrate, ou encore faire du controle avec des booleens (genre un qui dit qu'on se déplace, donc on doit bloquer les evenement etc ...)\n",
    "\n",
    "Je vais faire une autre approche, un peu plus subtile qui n'utilisera pas les threads. La voici :\n",
    "\n",
    "Je rajoute un objet JobManager, qui va contenir les taches (les jobs) à effectuer à chaque tour de boucle.\n",
    "La fonction travel va simplement rajouter autant de tache qu'il y a de déplacement dans le parcours.\n",
    "\n",
    "Ca a l'avantage de quasiment pas changer la logique du code.\n",
    "\n",
    "Ca fait un truc du style :"
   ]
  },
  {
   "cell_type": "code",
   "execution_count": null,
   "metadata": {},
   "outputs": [],
   "source": [
    "class JobManager:\n",
    "    def __init__(self):\n",
    "        self.jobs = deque() # Une file\n",
    "\n",
    "    def add_job(self, job):\n",
    "        self.jobs.append(job)\n",
    "\n",
    "    def execute_next_job(self):\n",
    "        job = self.jobs.popleft() # recup le prochain\n",
    "        job() # execute le job\n",
    "\n",
    "    def has_job(self):\n",
    "        return len(self.jobs) # 0 == False\n"
   ]
  },
  {
   "cell_type": "markdown",
   "metadata": {},
   "source": [
    "Du coup, dans la boucle du jeu, si on a une tache à faire, on l'execute, sinon on fait les evenements comme avant"
   ]
  },
  {
   "cell_type": "code",
   "execution_count": null,
   "metadata": {},
   "outputs": [],
   "source": [
    "while continuer_jeu:\n",
    "\n",
    "    if job_manager.has_job():            # Si on a un job\n",
    "        job_manager.execute_next_job()   # on l'execute\n",
    "    \n",
    "    # On traite les evenements    \n",
    "    for event in pygame.event.get(): \n",
    "        # ...\n",
    "    \n",
    "    # On gere l'affichage\n",
    "    fenetre.blit(fond, (0, 0))\n",
    "    # ...\n"
   ]
  },
  {
   "cell_type": "markdown",
   "metadata": {},
   "source": [
    "Maintenant, reste plus qu'à ajouter ces jobs dans le travel()"
   ]
  },
  {
   "cell_type": "code",
   "execution_count": null,
   "metadata": {},
   "outputs": [],
   "source": [
    "def travel(self, direction):\n",
    "    self.move(direction):\n",
    "            \n",
    "    backward_direction = opposite_direction(direction)\n",
    "    \n",
    "    job = lambda: self.progress_into_the_path(backward_direction)\n",
    "    self.job_manager.add_job(job)\n"
   ]
  },
  {
   "cell_type": "markdown",
   "metadata": {},
   "source": [
    "Ici, la seule différence à avant, c'est qu'on n'execute pas directement progress_into_the_path(), mais on met la methode dans une fonction lambda (fonction anonyme), qui sera executer plus tard, dans le prochain tour de boucle.\n",
    "\n",
    "Du coup, c'est dans le :\n",
    "\n",
    "    job_manager.execute_next_job()\n",
    "    \n",
    "que progress_into_the_path() sera executé. \n",
    "\n",
    "Comme cette fonction va relancer travel, cela va la rajouter encore une fois dans les jobs, et ainsi de suite, jusqu'a ce qu'il n'y a plus de déplacement possible."
   ]
  },
  {
   "cell_type": "code",
   "execution_count": null,
   "metadata": {},
   "outputs": [],
   "source": [
    "def progress_into_the_path(self, backward_direction=NOWHERE):\n",
    "    # ...\n",
    "    \n",
    "    # S'il n'y a qu'une seule direction possible\n",
    "    if len(possible_direction) == 1:\n",
    "        #...\n",
    "        \n",
    "        # on continue le parcours\n",
    "        self.travel(direction) # va remettre le parcours dans les jobs"
   ]
  },
  {
   "cell_type": "markdown",
   "metadata": {},
   "source": [
    "Après, la rapidité de l'animation est entièrement basé sur le clockrate :\n",
    "\n",
    "    pygame.time.Clock().tick(30)"
   ]
  }
 ],
 "metadata": {
  "kernelspec": {
   "display_name": "Python 3",
   "language": "python",
   "name": "python3"
  },
  "language_info": {
   "codemirror_mode": {
    "name": "ipython",
    "version": 3
   },
   "file_extension": ".py",
   "mimetype": "text/x-python",
   "name": "python",
   "nbconvert_exporter": "python",
   "pygments_lexer": "ipython3",
   "version": "3.6.1"
  }
 },
 "nbformat": 4,
 "nbformat_minor": 2
}
